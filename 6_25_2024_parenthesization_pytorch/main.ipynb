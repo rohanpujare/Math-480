{
 "cells": [
  {
   "cell_type": "markdown",
   "metadata": {},
   "source": [
    "# Imports"
   ]
  },
  {
   "cell_type": "code",
   "execution_count": null,
   "metadata": {},
   "outputs": [],
   "source": [
    "from torch.utils.data import DataLoader, random_split\n",
    "import torch\n",
    "from data import ParenthesizationDataset, ParenthesizationModel\n",
    "from train import train_one_epoch, evaluate_model\n",
    "import matplotlib.pyplot as plt"
   ]
  },
  {
   "cell_type": "markdown",
   "metadata": {},
   "source": [
    "# Initialization\n",
    "Set the parameters here for training and initialize the train/test datasets, data loaders, model, loss function and optimizer."
   ]
  },
  {
   "cell_type": "code",
   "execution_count": null,
   "metadata": {},
   "outputs": [],
   "source": [
    "n = 7\n",
    "epochs = 50\n",
    "train_split, test_split = 0.8, 0.2\n",
    "learning_rate = 0.001\n",
    "momentum = 0.9\n",
    "batch_size = 32\n",
    "\n",
    "# TODO: Create the datasets, model, loss function, optimizer, and data loader.\n",
    "allData = ParenthesizationDataset(n)\n",
    "\n",
    "lenTrain = len(allData) * train_split\n",
    "lenTest = len(allData) * test_split\n",
    "\n",
    "trainData, testData = random_split(allData, [lenTrain, lenTest])\n",
    "\n",
    "model = ParenthesizationModel(n)\n",
    "\n",
    "trainLoader = DataLoader(trainData, batch_size=batch_size, shuffle=True)\n",
    "testLoader = DataLoader(testData, batch_size=batch_size, shuffle=True)\n",
    "\n",
    "loss_fn = torch.nn.CrossEntropyCross()\n",
    "\n",
    "optimizer = torch.optim.SGD(model.parameters(), lr=learning_rate, momentum = momentum)"
   ]
  },
  {
   "cell_type": "markdown",
   "metadata": {},
   "source": [
    "# Training the model\n",
    "* Call `train_one_epoch` repeatedly to train the model once over the entire training dataset.\n",
    "* Print out the epoch number and loss after each training call to verify that the loss is going down.\n",
    "* Record the loss values in a list so that it can be plotted in the cell below.\n",
    "* After training, call `evaluate_model` to get the confusion matrix.\n",
    "* Save the model as `models/linear_model_{n}.pt`."
   ]
  },
  {
   "cell_type": "code",
   "execution_count": null,
   "metadata": {},
   "outputs": [],
   "source": [
    "from train import train_one_epoch, evaluate_model\n",
    "import matplotlib.pyplot as plt\n",
    "\n",
    "loss = []\n",
    "for epoch in range(50):\n",
    "    # TODO\n",
    "    # pass\n",
    "    currLoss = train_one_epoch(trainLoader, model, loss_fn, optimizer)\n",
    "    print(epoch, currLoss)\n",
    "    loss.__add__(currLoss)\n",
    "# on\n",
    "confusion_matrix = evaluate_model(model, testData)\n",
    "print(confusion_matrix)\n",
    "torch.save(model.state_dict(), \"models/linear_model_{n}.pt\")"
   ]
  },
  {
   "cell_type": "markdown",
   "metadata": {},
   "source": [
    "# Plot the loss curve\n",
    "Plot the loss curve with appropriate figure title and axis labels. Save the resulting figure in `figures/loss_curve_{n}.png`."
   ]
  },
  {
   "cell_type": "code",
   "execution_count": null,
   "metadata": {},
   "outputs": [],
   "source": [
    "# TODO\n",
    "import matplotlib.pyplot as plt\n",
    "\n",
    "plt.figure(figsize=(10,6))\n",
    "plt.plot(loss)\n",
    "# yes\n",
    "plt.xlabel(\"epoch\")\n",
    "plt.ylabel(\"loss\")\n",
    "\n",
    "plt.savefig(f\"figures/loss_curve_{n}.png\")"
   ]
  },
  {
   "cell_type": "markdown",
   "metadata": {},
   "source": [
    "# Analyze accuracy using the confusion matrix\n",
    "- Print out the accuracy within each of the prediction classes.\n",
    "- Print out the size of each prediction class.\n",
    "- Print out the overall accuracy."
   ]
  },
  {
   "cell_type": "code",
   "execution_count": null,
   "metadata": {},
   "outputs": [],
   "source": [
    "# TODO\n",
    "print(confusion_matrix)\n",
    "print(\"size\" (sum(confusion_matrix[0])))\n",
    "print(\"size 1\" (sum(confusion_matrix[1])))\n",
    "print(\"0 class: \" (confusion_matrix[0][0]/sum(confusion_matrix[0])))\n",
    "print(\"1 class: \" (confusion_matrix[1][1]/sum(confusion_matrix[1])))\n",
    "print()"
   ]
  },
  {
   "cell_type": "markdown",
   "metadata": {},
   "source": [
    "# Plot the model weights\n",
    "Can you interpret what the model is doing? Plot the model weights using `plt.imshow()` to get a heatmap. Choose a colormap from https://matplotlib.org/stable/users/explain/colors/colormaps.html that you prefer. I default to the `bwr` colormap where negative values are blue, positive value are red, and values close to zero are white."
   ]
  },
  {
   "cell_type": "code",
   "execution_count": null,
   "metadata": {},
   "outputs": [],
   "source": [
    "# TODO\n",
    "import matplotlib.pyplot as plt\n",
    "from data import ParenthesizationDataset, ParenthesizationModel\n",
    "model = ParenthesizationModel(n)\n",
    "\n",
    "plt.figure(figsize=(10, 6))\n",
    "plt.imshow(model.fc.weight[0].unsqueeze(0).detach().numpy(), aspect = 'auto', cmap = 'bwr')\n",
    "plt.imshow(model.fc.weight[1].unsqueeze(0).detach().numpy(), aspect = 'auto', cmap = 'bwr')\n",
    "plt.show()"
   ]
  },
  {
   "cell_type": "markdown",
   "metadata": {},
   "source": [
    "# \"Translate\" the model into code.\n",
    "Implement `simple_evaluate` which condenses the model's \"logic\" into a single if-else statement. Run this evaluation function over the test set to produce a new confusion matrix and see how it performs compared to the model you train."
   ]
  },
  {
   "cell_type": "code",
   "execution_count": null,
   "metadata": {},
   "outputs": [],
   "source": [
    "# Try to condense the linear model down into a single if-else statement. \n",
    "def simple_evaluate(input):\n",
    "    # TODO\n",
    "    if input[0] < input[1]:\n",
    "        return torch.tensor(1, 0)\n",
    "    if input[-2] > input[-1]:\n",
    "        return torch.tensor(1, 0)\n",
    "    return torch.tensor(0, 1)\n",
    "\n",
    "\n",
    "    confusion_matrix = [[0, 0][0, 0]]\n",
    "    with torch.no_grad():\n",
    "        for vdata in test_dataset:\n",
    "            vinputs, vlabels = vdata\n",
    "            voutputs = model(vinputs)\n",
    "            outlabel = torch.argmax(output)\n",
    "            confusion_matrix[vlabels][outlabel] += 1\n",
    "    print(confusion_matrix)\n",
    "    print(\"size\" (sum(confusion_matrix[0])))\n",
    "    print(\"size 1\" (sum(confusion_matrix[1])))\n",
    "    print(\"0 class: \" (confusion_matrix[0][0]/sum(confusion_matrix[0])))\n",
    "    print(\"1 class: \" (confusion_matrix[1][1]/sum(confusion_matrix[1])))"
   ]
  }
 ],
 "metadata": {
  "kernelspec": {
   "display_name": "Python 3",
   "language": "python",
   "name": "python3"
  },
  "language_info": {
   "codemirror_mode": {
    "name": "ipython",
    "version": 3
   },
   "file_extension": ".py",
   "mimetype": "text/x-python",
   "name": "python",
   "nbconvert_exporter": "python",
   "pygments_lexer": "ipython3",
   "version": "3.9.6"
  }
 },
 "nbformat": 4,
 "nbformat_minor": 2
}
